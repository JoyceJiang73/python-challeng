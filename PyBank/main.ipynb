{
 "cells": [
  {
   "cell_type": "code",
   "execution_count": null,
   "metadata": {},
   "outputs": [],
   "source": []
  },
  {
   "cell_type": "code",
   "execution_count": 14,
   "metadata": {},
   "outputs": [
    {
     "name": "stdout",
     "output_type": "stream",
     "text": [
      "Financial Analysis\n",
      "----------------------------\n"
     ]
    }
   ],
   "source": [
    "import os \n",
    "import csv\n",
    "from pathlib import Path\n",
    "path = Path('/Users/yanrujiang/Desktop/python-challenge/PyBank/budget_data.csv')\n",
    "monthcount = []\n",
    "sumtotal =[]\n",
    "monthlychange =[]\n",
    "print (\"Financial Analysis\")\n",
    "print (\"----------------------------\")"
   ]
  },
  {
   "cell_type": "code",
   "execution_count": 15,
   "metadata": {},
   "outputs": [],
   "source": [
    "with open (path, newline ='')as csvfile:\n",
    "    csvreader = csv.reader(csvfile,delimiter=\",\")\n",
    "    header = next(csvreader)\n",
    "    for row in csvreader:\n",
    "        monthcount.append(row[0])\n",
    "        sumtotal.append(int(row[1]))"
   ]
  },
  {
   "cell_type": "code",
   "execution_count": 16,
   "metadata": {},
   "outputs": [],
   "source": [
    "#totalmonth = int(len(monthcount)\n",
    "#totalprofit = sum(sumtotal)"
   ]
  },
  {
   "cell_type": "code",
   "execution_count": 17,
   "metadata": {},
   "outputs": [],
   "source": [
    "    for i in range(len(monthcount)-1):\n",
    "        change = sumtotal[i+1]-sumtotal[i]\n",
    "        monthlychange.append(change)\n",
    "    avgchange = round(sum(monthlychange)/len(monthcount),2)"
   ]
  },
  {
   "cell_type": "code",
   "execution_count": 18,
   "metadata": {},
   "outputs": [],
   "source": [
    "#maxincrease = max(monthlychange)\n",
    "#maxdecrease = min(monthlychange)\n",
    "#maxincrease_month = monthcount[monthlychange.index(maxincrease)+1]\n",
    "#maxdecrease_month = monthcount[monthlychange.index(maxdecrease)+1]\n",
    "#monthlychange starts from zero\n",
    "maxchange = max(monthlychange)\n",
    "minchange = min(monthlychange)\n",
    "maxchange_month = monthcount[monthlychange.index(maxchange)]\n",
    "minchange_month = monthcount[monthlychange.index(minchange)]"
   ]
  },
  {
   "cell_type": "code",
   "execution_count": 11,
   "metadata": {},
   "outputs": [
    {
     "name": "stdout",
     "output_type": "stream",
     "text": [
      "Total Months: 86\n",
      "Total: $38382578\n",
      "Average  Change: $-2288.2\n",
      "Greatest Increase in Profits: Feb-2012 ($1926159)\n",
      "Greatest Decrease in Profits: Sep-2013 ($-2196167)\n"
     ]
    }
   ],
   "source": [
    "print(\"Total Months: \" + str(len(monthcount)))\n",
    "print(\"Total: $\" + str(sum(sumtotal)))\n",
    "print(\"Average  Change: $\" + str(avgchange))\n",
    "print(\"Greatest Increase in Profits: \" + str(maxincrease_month) +\" ($\" + str(maxincrease) + \")\")\n",
    "print(\"Greatest Decrease in Profits: \" + str(maxdecrease_month) +\" ($\" + str(maxdecrease) + \")\")"
   ]
  },
  {
   "cell_type": "code",
   "execution_count": 12,
   "metadata": {},
   "outputs": [],
   "source": [
    "output_file = Path(\"Output.txt\")"
   ]
  },
  {
   "cell_type": "code",
   "execution_count": 13,
   "metadata": {},
   "outputs": [],
   "source": [
    "with open(output_file,\"w\") as file:\n",
    "    file.write(\"Financial Analysis\")\n",
    "    file.write(\"\\n\")\n",
    "    file.write(\"----------------------------\")\n",
    "    file.write(\"\\n\")\n",
    "    file.write(\"Total Months: \" + str(len(monthcount)))\n",
    "    file.write(\"\\n\")\n",
    "    file.write(\"Total: $\" + str(sum(sumtotal)))\n",
    "    file.write(\"\\n\")\n",
    "    file.write(\"Average  Change: $\" + str(avgchange))\n",
    "    file.write(\"\\n\")\n",
    "    file.write(\"Greatest Increase in Profits: \" + str(maxincrease_month) +\" ($\" + str(maxincrease) + \")\")\n",
    "    file.write(\"\\n\")\n",
    "    file.write(\"Greatest Decrease in Profits: \" + str(maxdecrease_month) +\" ($\" + str(maxdecrease) + \")\")"
   ]
  },
  {
   "cell_type": "code",
   "execution_count": null,
   "metadata": {},
   "outputs": [],
   "source": []
  },
  {
   "cell_type": "code",
   "execution_count": null,
   "metadata": {},
   "outputs": [],
   "source": []
  }
 ],
 "metadata": {
  "kernelspec": {
   "display_name": "Python 3",
   "language": "python",
   "name": "python3"
  },
  "language_info": {
   "codemirror_mode": {
    "name": "ipython",
    "version": 3
   },
   "file_extension": ".py",
   "mimetype": "text/x-python",
   "name": "python",
   "nbconvert_exporter": "python",
   "pygments_lexer": "ipython3",
   "version": "3.6.6"
  }
 },
 "nbformat": 4,
 "nbformat_minor": 2
}
