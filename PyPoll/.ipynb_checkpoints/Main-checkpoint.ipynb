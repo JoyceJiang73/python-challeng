{
 "cells": [
  {
   "cell_type": "code",
   "execution_count": 1,
   "metadata": {},
   "outputs": [],
   "source": [
    "import os\n",
    "import csv\n",
    "\n",
    "from pathlib import Path\n",
    "path = Path('/Users/yanrujiang/Desktop/python-challenge/PyPoll/election_data.csv')\n",
    "Total_Votes=[]\n",
    "Candidate = []\n",
    "Khan_Vote=[]\n",
    "Correy_Vote=[]\n",
    "Li_Vote=[]\n",
    "OTooley_Vote=[]"
   ]
  },
  {
   "cell_type": "code",
   "execution_count": 2,
   "metadata": {},
   "outputs": [],
   "source": [
    "with open (path, newline ='')as csvfile:\n",
    "    csvreader = csv.reader(csvfile,delimiter=\",\")\n",
    "    header = next(csvreader)"
   ]
  },
  {
   "cell_type": "code",
   "execution_count": 10,
   "metadata": {},
   "outputs": [
    {
     "ename": "SyntaxError",
     "evalue": "keyword can't be an expression (<ipython-input-10-d9c29b499fa3>, line 8)",
     "output_type": "error",
     "traceback": [
      "\u001b[0;36m  File \u001b[0;32m\"<ipython-input-10-d9c29b499fa3>\"\u001b[0;36m, line \u001b[0;32m8\u001b[0m\n\u001b[0;31m    Correy.append(Candidate[a]=Correy)\u001b[0m\n\u001b[0m                 ^\u001b[0m\n\u001b[0;31mSyntaxError\u001b[0m\u001b[0;31m:\u001b[0m keyword can't be an expression\n"
     ]
    }
   ],
   "source": [
    "    for row in csvreader:\n",
    "        Total_Votes.append(Row[0])\n",
    "        Candidate.append(Row[2])\n",
    "    for i in range(len(Total_Votes)):\n",
    "        count_Khan=Candidate[i]=\"Khan\"\n",
    "        Khan.append(count_Khan)\n",
    "    for a in range(len(Total_Votes)):\n",
    "        Correy.append(Candidate[a]=Correy)\n",
    "    for b in range(len(Total_Votes)):\n",
    "        Li.append(Candidate[b]=Li)\n",
    "    for c in range(len(Total_Votes)):\n",
    "        OTooley.append(Candidate[c]=\"O'Tooley\")"
   ]
  },
  {
   "cell_type": "code",
   "execution_count": null,
   "metadata": {},
   "outputs": [],
   "source": []
  },
  {
   "cell_type": "code",
   "execution_count": null,
   "metadata": {},
   "outputs": [],
   "source": []
  }
 ],
 "metadata": {
  "kernelspec": {
   "display_name": "Python 3",
   "language": "python",
   "name": "python3"
  },
  "language_info": {
   "codemirror_mode": {
    "name": "ipython",
    "version": 3
   },
   "file_extension": ".py",
   "mimetype": "text/x-python",
   "name": "python",
   "nbconvert_exporter": "python",
   "pygments_lexer": "ipython3",
   "version": "3.6.6"
  }
 },
 "nbformat": 4,
 "nbformat_minor": 2
}
