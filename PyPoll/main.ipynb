{
 "cells": [
  {
   "cell_type": "code",
   "execution_count": 105,
   "metadata": {},
   "outputs": [],
   "source": [
    "import os\n",
    "import csv\n",
    "\n",
    "from pathlib import Path\n",
    "path = Path('/Users/yanrujiang/Desktop/python-challenge/PyPoll/election_data.csv')\n",
    "Total_Votes=[]\n",
    "Candidate = []\n",
    "Khan=[]\n",
    "Correy=[]\n",
    "Li=[]\n",
    "OTooley=[]\n",
    "Name_List=[]"
   ]
  },
  {
   "cell_type": "code",
   "execution_count": 106,
   "metadata": {},
   "outputs": [],
   "source": [
    "with open (path, newline ='')as csvfile:\n",
    "    csvreader = csv.reader(csvfile,delimiter=\",\")\n",
    "    header = next(csvreader)\n",
    "\n",
    "    for row in csvreader:\n",
    "        Total_Votes.append(row[0])\n",
    "        Candidate.append(row[2])"
   ]
  },
  {
   "cell_type": "code",
   "execution_count": 107,
   "metadata": {},
   "outputs": [],
   "source": [
    "#    for d in range(len(Total_Votes)):\n",
    "#        Name_List.append(Candidate[d+1]!=Candidate[d])\n",
    "#        break\n",
    "\n",
    "#        for i in range(len(Total_Votes)):\n",
    "#            Khan.append(Candidate[i]==\"Kahn\")\n",
    "#        for a in range(len(Total_Votes)):\n",
    "#            Correy.append(Candidate[a]==\"Correy\")\n",
    "#        for b in range(len(Total_Votes)):\n",
    "#            Li.append(Candidate[b]==\"Li\")\n",
    "#        for c in range(len(Total_Votes)):\n",
    "#            OTooley.append(Candidate[c]==\"O'Tooley\")\n",
    "        for i in range(len(Total_Votes)):\n",
    "            if Candidate[i]==\"Khan\":\n",
    "                Khan.append(Candidate[i])\n",
    "            elif Candidate[i]==\"Correy\":\n",
    "                Correy.append(Candidate[i])\n",
    "            elif Candidate[i]==\"Li\":\n",
    "                Li.append(Candidate[i])\n",
    "            elif Candidate[i]==\"O'Tooley\":\n",
    "                OTooley.append(Candidate[i])"
   ]
  },
  {
   "cell_type": "code",
   "execution_count": 108,
   "metadata": {},
   "outputs": [],
   "source": [
    "Khan_Count = len(Khan)\n",
    "Correy_Count = len(Correy)\n",
    "Li_Count = len(Li)\n",
    "OTooley_Count= len(OTooley)"
   ]
  },
  {
   "cell_type": "code",
   "execution_count": 109,
   "metadata": {},
   "outputs": [
    {
     "name": "stdout",
     "output_type": "stream",
     "text": [
      "3521001\n"
     ]
    }
   ],
   "source": [
    "print(Khan_Count+Correy_Count+Li_Count+OTooley_Count)"
   ]
  },
  {
   "cell_type": "code",
   "execution_count": 110,
   "metadata": {},
   "outputs": [],
   "source": [
    "Khan_percent = round(len(Khan)/len(Total_Votes)*100,3)\n",
    "Correy_percent=round(len(Correy)/len(Total_Votes)*100,3)\n",
    "Li_percent=round(len(Li)/len(Total_Votes)*100,3)\n",
    "OTooley_percent=round(len(OTooley)/len(Total_Votes)*100,3)"
   ]
  },
  {
   "cell_type": "code",
   "execution_count": 111,
   "metadata": {},
   "outputs": [],
   "source": [
    "#Name = [\"Khan\",\"Correy\",\"Li\",\"O'Tooley\"]\n",
    "#Count = [Khan_Count,Correy_Count,Li_Count,OTooley_Count]\n",
    "#match = zip(Name,Count)\n",
    "#max_vote = max[Count]\n",
    "#winner=name[max_vote.index(max_vote)]\n",
    "#winner = max[Khan_Count,Correy_Count,Li_Count,OTooley_Count]"
   ]
  },
  {
   "cell_type": "code",
   "execution_count": 112,
   "metadata": {},
   "outputs": [
    {
     "name": "stdout",
     "output_type": "stream",
     "text": [
      "Election Results\n",
      "----------------------------\n",
      "Total Votes: 3521001\n",
      "----------------------------\n",
      "Khan: 63.0% (2218231)\n",
      "Correy: 20.0% (704200)\n",
      "Li: 14.0% (492940)\n",
      "O'Tooley: 3.0% (105630)\n",
      "----------------------------\n",
      "Winner: Khan\n",
      "----------------------------\n"
     ]
    }
   ],
   "source": [
    "print (\"Election Results\")\n",
    "print (\"----------------------------\")\n",
    "print( \"Total Votes: \" + str(len(Total_Votes)))\n",
    "print (\"----------------------------\")\n",
    "print(f\"Khan: {Khan_percent}% ({Khan_Count})\")\n",
    "print(f\"Correy: {Correy_percent}% ({Correy_Count})\")\n",
    "print(f\"Li: {Li_percent}% ({Li_Count})\")\n",
    "print(f\"O'Tooley: {OTooley_percent}% ({OTooley_Count})\")\n",
    "print (\"----------------------------\")\n",
    "print(f\"Winner: Khan\")\n",
    "print (\"----------------------------\")   "
   ]
  },
  {
   "cell_type": "code",
   "execution_count": 113,
   "metadata": {},
   "outputs": [],
   "source": [
    "output_file = Path(\"Output.txt\")"
   ]
  },
  {
   "cell_type": "code",
   "execution_count": 114,
   "metadata": {},
   "outputs": [],
   "source": [
    "with open(output_file,\"w\") as file:\n",
    "    file.write(\"Election Results\")\n",
    "    file.write(\"\\n\")\n",
    "    file.write(\"----------------------------\")\n",
    "    file.write(\"\\n\")\n",
    "    file.write(\"Total Votes: \" + str(len(Total_Votes)))\n",
    "    file.write(\"\\n\")\n",
    "    file.write(\"----------------------------\")\n",
    "    file.write(\"\\n\")\n",
    "    file.write(f\"Khan: {Khan_percent}% ({Khan_Count})\")\n",
    "    file.write(\"\\n\")\n",
    "    file.write(f\"Correy: {Correy_percent}% ({Correy_Count})\")\n",
    "    file.write(\"\\n\")\n",
    "    file.write(f\"Li: {Li_percent}% ({Li_Count})\")\n",
    "    file.write(\"\\n\")\n",
    "    file.write(f\"O'Tooley: {OTooley_percent}% ({OTooley_Count})\")\n",
    "    file.write(\"\\n\")\n",
    "    file.write(\"----------------------------\")\n",
    "    file.write(\"\\n\")\n",
    "    file.write(f\"Winner: Khan\")\n",
    "    file.write(\"\\n\")\n",
    "    file.write(\"----------------------------\")   "
   ]
  },
  {
   "cell_type": "code",
   "execution_count": null,
   "metadata": {},
   "outputs": [],
   "source": []
  }
 ],
 "metadata": {
  "kernelspec": {
   "display_name": "Python 3",
   "language": "python",
   "name": "python3"
  },
  "language_info": {
   "codemirror_mode": {
    "name": "ipython",
    "version": 3
   },
   "file_extension": ".py",
   "mimetype": "text/x-python",
   "name": "python",
   "nbconvert_exporter": "python",
   "pygments_lexer": "ipython3",
   "version": "3.6.6"
  }
 },
 "nbformat": 4,
 "nbformat_minor": 2
}
